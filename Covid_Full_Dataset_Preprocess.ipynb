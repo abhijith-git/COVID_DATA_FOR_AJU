{
 "cells": [
  {
   "cell_type": "code",
   "execution_count": 1,
   "metadata": {
    "ExecuteTime": {
     "end_time": "2020-08-15T13:44:44.580415Z",
     "start_time": "2020-08-15T13:44:43.693765Z"
    }
   },
   "outputs": [],
   "source": [
    "import pandas as pd\n",
    "#import matplotlib.pyplot as plt\n",
    "#import seaborn as sns\n",
    "#import numpy as np\n",
    "\n",
    "import warnings\n",
    "warnings.filterwarnings('ignore')"
   ]
  },
  {
   "cell_type": "code",
   "execution_count": 2,
   "metadata": {
    "ExecuteTime": {
     "end_time": "2020-08-15T13:44:47.788597Z",
     "start_time": "2020-08-15T13:44:47.704232Z"
    }
   },
   "outputs": [
    {
     "name": "stdout",
     "output_type": "stream",
     "text": [
      "conf_shape: (266, 198)\n",
      "death_shape: (266, 198)\n",
      "rec_shape: (253, 198)\n"
     ]
    }
   ],
   "source": [
    "df_conf=pd.read_csv(\"time_series_covid19_confirmed_global.csv\")\n",
    "df_death=pd.read_csv(\"time_series_covid19_deaths_global.csv\")\n",
    "df_rec=pd.read_csv(\"time_series_covid19_recovered_global.csv\")\n",
    "\n",
    "print(\"conf_shape:\", df_conf.shape)\n",
    "print(\"death_shape:\", df_death.shape)\n",
    "print(\"rec_shape:\", df_rec.shape)"
   ]
  },
  {
   "cell_type": "markdown",
   "metadata": {},
   "source": [
    "## Time Series total death"
   ]
  },
  {
   "cell_type": "code",
   "execution_count": 3,
   "metadata": {
    "ExecuteTime": {
     "end_time": "2020-08-15T13:44:56.705037Z",
     "start_time": "2020-08-15T13:44:56.682897Z"
    },
    "code_folding": []
   },
   "outputs": [],
   "source": [
    "def stats_calculator(df_conf,df_death,df_rec):\n",
    "    \"\"\"\n",
    "    Docstring:\n",
    "    Calculate the number of Total Deaths, Confirmed Cases, Recoveries, New Cases and Mortality Rate each day\n",
    "    \n",
    "    Takes in confirmed, death and recovered dataframes as argument\n",
    "    Return a dataframe\n",
    "    \"\"\"\n",
    "    #Extract dates\n",
    "    date=df_death.keys()[4:]\n",
    "    \n",
    "    #Initialize Stats\n",
    "    total_death_date=[]\n",
    "    total_rec_date=[]\n",
    "    total_conf_date=[]\n",
    "    mortality_rate=[]\n",
    "    active_cases=[]\n",
    "    \n",
    "    #Append Stats\n",
    "    for i in date:\n",
    "        total_death_date.append(df_death[i].sum())\n",
    "        total_rec_date.append(df_rec[i].sum())\n",
    "        total_conf_date.append(df_conf[i].sum())\n",
    "        mortality_rate.append(df_death[i].sum()*100/df_conf[i].sum())\n",
    "        active_cases.append(df_conf[i].sum()-df_death[i].sum()-df_rec[i].sum())\n",
    "\n",
    "    #Make stats into a dataframe\n",
    "    df_temp_dict={\"Date\":date, \"Death\":total_death_date,\"Rec\":total_rec_date,\n",
    "                  \"Conf\":total_conf_date,\"MortRate\":mortality_rate,\"Active\":active_cases}\n",
    "    df_temp=pd.DataFrame(df_temp_dict)\n",
    "    df_temp['NewConf']=df_temp.Conf\n",
    "    for i in range(1,df_temp.shape[0]):\n",
    "        df_temp.NewConf[i]=df_temp.Conf[i]-df_temp.Conf[i-1]\n",
    "    \n",
    "    #Return dataframe\n",
    "    return(df_temp)"
   ]
  },
  {
   "cell_type": "code",
   "execution_count": 5,
   "metadata": {
    "ExecuteTime": {
     "end_time": "2020-08-15T13:45:48.310709Z",
     "start_time": "2020-08-15T13:45:48.110429Z"
    }
   },
   "outputs": [
    {
     "data": {
      "text/html": [
       "<div>\n",
       "<style scoped>\n",
       "    .dataframe tbody tr th:only-of-type {\n",
       "        vertical-align: middle;\n",
       "    }\n",
       "\n",
       "    .dataframe tbody tr th {\n",
       "        vertical-align: top;\n",
       "    }\n",
       "\n",
       "    .dataframe thead th {\n",
       "        text-align: right;\n",
       "    }\n",
       "</style>\n",
       "<table border=\"1\" class=\"dataframe\">\n",
       "  <thead>\n",
       "    <tr style=\"text-align: right;\">\n",
       "      <th></th>\n",
       "      <th>Date</th>\n",
       "      <th>Death</th>\n",
       "      <th>Rec</th>\n",
       "      <th>Conf</th>\n",
       "      <th>MortRate</th>\n",
       "      <th>Active</th>\n",
       "      <th>NewConf</th>\n",
       "    </tr>\n",
       "  </thead>\n",
       "  <tbody>\n",
       "    <tr>\n",
       "      <th>0</th>\n",
       "      <td>1/22/20</td>\n",
       "      <td>17</td>\n",
       "      <td>28</td>\n",
       "      <td>555</td>\n",
       "      <td>3.063063</td>\n",
       "      <td>510</td>\n",
       "      <td>555</td>\n",
       "    </tr>\n",
       "    <tr>\n",
       "      <th>1</th>\n",
       "      <td>1/23/20</td>\n",
       "      <td>18</td>\n",
       "      <td>30</td>\n",
       "      <td>654</td>\n",
       "      <td>2.752294</td>\n",
       "      <td>606</td>\n",
       "      <td>99</td>\n",
       "    </tr>\n",
       "    <tr>\n",
       "      <th>2</th>\n",
       "      <td>1/24/20</td>\n",
       "      <td>26</td>\n",
       "      <td>36</td>\n",
       "      <td>941</td>\n",
       "      <td>2.763018</td>\n",
       "      <td>879</td>\n",
       "      <td>287</td>\n",
       "    </tr>\n",
       "    <tr>\n",
       "      <th>3</th>\n",
       "      <td>1/25/20</td>\n",
       "      <td>42</td>\n",
       "      <td>39</td>\n",
       "      <td>1434</td>\n",
       "      <td>2.928870</td>\n",
       "      <td>1353</td>\n",
       "      <td>493</td>\n",
       "    </tr>\n",
       "    <tr>\n",
       "      <th>4</th>\n",
       "      <td>1/26/20</td>\n",
       "      <td>56</td>\n",
       "      <td>52</td>\n",
       "      <td>2118</td>\n",
       "      <td>2.644004</td>\n",
       "      <td>2010</td>\n",
       "      <td>684</td>\n",
       "    </tr>\n",
       "  </tbody>\n",
       "</table>\n",
       "</div>"
      ],
      "text/plain": [
       "      Date  Death  Rec  Conf  MortRate  Active  NewConf\n",
       "0  1/22/20     17   28   555  3.063063     510      555\n",
       "1  1/23/20     18   30   654  2.752294     606       99\n",
       "2  1/24/20     26   36   941  2.763018     879      287\n",
       "3  1/25/20     42   39  1434  2.928870    1353      493\n",
       "4  1/26/20     56   52  2118  2.644004    2010      684"
      ]
     },
     "execution_count": 5,
     "metadata": {},
     "output_type": "execute_result"
    }
   ],
   "source": [
    "df_temp=stats_calculator(df_conf, df_death, df_rec)\n",
    "df_temp.head()"
   ]
  },
  {
   "cell_type": "code",
   "execution_count": null,
   "metadata": {},
   "outputs": [],
   "source": []
  }
 ],
 "metadata": {
  "kernelspec": {
   "display_name": "Python 3",
   "language": "python",
   "name": "python3"
  },
  "language_info": {
   "codemirror_mode": {
    "name": "ipython",
    "version": 3
   },
   "file_extension": ".py",
   "mimetype": "text/x-python",
   "name": "python",
   "nbconvert_exporter": "python",
   "pygments_lexer": "ipython3",
   "version": "3.7.4"
  }
 },
 "nbformat": 4,
 "nbformat_minor": 2
}
